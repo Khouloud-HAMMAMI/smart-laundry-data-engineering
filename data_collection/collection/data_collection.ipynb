{
 "cells": [
  {
   "cell_type": "code",
   "execution_count": null,
   "id": "dcb0e868",
   "metadata": {},
   "outputs": [],
   "source": [
    "! pip install pdfplumber openpyxl pandas"
   ]
  },
  {
   "cell_type": "code",
   "execution_count": null,
   "id": "8c009147",
   "metadata": {},
   "outputs": [],
   "source": [
    "import pdfplumber\n",
    "import pandas as pd\n",
    "import os\n",
    "\n",
    "pdf_folder = \"Factures_laverie1/\"\n",
    "data = []\n",
    "\n",
    "# Parcourir tous les fichiers PDF\n",
    "for file_name in os.listdir(pdf_folder):\n",
    "    if file_name.endswith(\".pdf\"):\n",
    "        with pdfplumber.open(os.path.join(pdf_folder, file_name)) as pdf:\n",
    "            text = \"\"\n",
    "            for page in pdf.pages:\n",
    "                text += page.extract_text() + \"\\n\"\n",
    "            data.append({\n",
    "                \"Nom du fichier\": file_name,\n",
    "                \"Contenu extrait\": text\n",
    "            })\n",
    "\n",
    "# Créer un DataFrame avec toutes les factures\n",
    "df = pd.DataFrame(data)\n",
    "\n",
    "# Exporter en Excel\n",
    "df.to_excel(\"Data/laverie1/factures.xlsx\", index=False)\n"
   ]
  },
  {
   "cell_type": "markdown",
   "id": "37b771d8",
   "metadata": {},
   "source": [
    "# Exploration des données"
   ]
  },
  {
   "cell_type": "code",
   "execution_count": null,
   "id": "c236641a",
   "metadata": {},
   "outputs": [],
   "source": []
  }
 ],
 "metadata": {
  "kernelspec": {
   "display_name": "Python 3",
   "language": "python",
   "name": "python3"
  },
  "language_info": {
   "codemirror_mode": {
    "name": "ipython",
    "version": 3
   },
   "file_extension": ".py",
   "mimetype": "text/x-python",
   "name": "python",
   "nbconvert_exporter": "python",
   "pygments_lexer": "ipython3",
   "version": "3.13.3"
  }
 },
 "nbformat": 4,
 "nbformat_minor": 5
}
